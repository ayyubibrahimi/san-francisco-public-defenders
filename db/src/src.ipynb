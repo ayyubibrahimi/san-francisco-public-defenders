{
 "cells": [
  {
   "cell_type": "code",
   "execution_count": 1,
   "metadata": {},
   "outputs": [],
   "source": [
    "import pandas as pd"
   ]
  },
  {
   "cell_type": "code",
   "execution_count": 2,
   "metadata": {},
   "outputs": [
    {
     "data": {
      "text/html": [
       "<div>\n",
       "<style scoped>\n",
       "    .dataframe tbody tr th:only-of-type {\n",
       "        vertical-align: middle;\n",
       "    }\n",
       "\n",
       "    .dataframe tbody tr th {\n",
       "        vertical-align: top;\n",
       "    }\n",
       "\n",
       "    .dataframe thead th {\n",
       "        text-align: right;\n",
       "    }\n",
       "</style>\n",
       "<table border=\"1\" class=\"dataframe\">\n",
       "  <thead>\n",
       "    <tr style=\"text-align: right;\">\n",
       "      <th></th>\n",
       "      <th>sha1</th>\n",
       "      <th>page_number</th>\n",
       "      <th>page_content</th>\n",
       "    </tr>\n",
       "  </thead>\n",
       "  <tbody>\n",
       "    <tr>\n",
       "      <th>0</th>\n",
       "      <td>ce4afccbbc15e4f42779a53021e42ec97fca057f</td>\n",
       "      <td>1</td>\n",
       "      <td>NTY OF SA\\nCITY AND COUNTY OF SAN FRANCISCO\\nA...</td>\n",
       "    </tr>\n",
       "    <tr>\n",
       "      <th>1</th>\n",
       "      <td>ce4afccbbc15e4f42779a53021e42ec97fca057f</td>\n",
       "      <td>2</td>\n",
       "      <td>PAGE | 2\\nCalifornia Penal Code § 832.7(b)(5)(...</td>\n",
       "    </tr>\n",
       "    <tr>\n",
       "      <th>2</th>\n",
       "      <td>ce4afccbbc15e4f42779a53021e42ec97fca057f</td>\n",
       "      <td>3</td>\n",
       "      <td>PAGE | 3\\nSincerely,\\nSan Francisco Police Dep...</td>\n",
       "    </tr>\n",
       "    <tr>\n",
       "      <th>3</th>\n",
       "      <td>15499cf0a5b1ca53df32de0b68b745f8c4517619</td>\n",
       "      <td>1</td>\n",
       "      <td>AND COUNTY ON\\nSAN FRANCISCO\\nPOLICE DEPARTMEN...</td>\n",
       "    </tr>\n",
       "    <tr>\n",
       "      <th>4</th>\n",
       "      <td>15499cf0a5b1ca53df32de0b68b745f8c4517619</td>\n",
       "      <td>2</td>\n",
       "      <td>MANAGEMENT CONTROL DIVISION\\nCASE EVALUATION\\n...</td>\n",
       "    </tr>\n",
       "  </tbody>\n",
       "</table>\n",
       "</div>"
      ],
      "text/plain": [
       "                                       sha1  page_number  \\\n",
       "0  ce4afccbbc15e4f42779a53021e42ec97fca057f            1   \n",
       "1  ce4afccbbc15e4f42779a53021e42ec97fca057f            2   \n",
       "2  ce4afccbbc15e4f42779a53021e42ec97fca057f            3   \n",
       "3  15499cf0a5b1ca53df32de0b68b745f8c4517619            1   \n",
       "4  15499cf0a5b1ca53df32de0b68b745f8c4517619            2   \n",
       "\n",
       "                                        page_content  \n",
       "0  NTY OF SA\\nCITY AND COUNTY OF SAN FRANCISCO\\nA...  \n",
       "1  PAGE | 2\\nCalifornia Penal Code § 832.7(b)(5)(...  \n",
       "2  PAGE | 3\\nSincerely,\\nSan Francisco Police Dep...  \n",
       "3  AND COUNTY ON\\nSAN FRANCISCO\\nPOLICE DEPARTMEN...  \n",
       "4  MANAGEMENT CONTROL DIVISION\\nCASE EVALUATION\\n...  "
      ]
     },
     "execution_count": 2,
     "metadata": {},
     "output_type": "execute_result"
    }
   ],
   "source": [
    "def read_tbl():\n",
    "    df = pd.read_csv(\"../data/input/document_text.csv\")\n",
    "    return df \n",
    "\n",
    "df = read_tbl()\n",
    "\n",
    "df.head()"
   ]
  }
 ],
 "metadata": {
  "kernelspec": {
   "display_name": "3.12",
   "language": "python",
   "name": "python3"
  },
  "language_info": {
   "codemirror_mode": {
    "name": "ipython",
    "version": 3
   },
   "file_extension": ".py",
   "mimetype": "text/x-python",
   "name": "python",
   "nbconvert_exporter": "python",
   "pygments_lexer": "ipython3",
   "version": "3.12.8"
  }
 },
 "nbformat": 4,
 "nbformat_minor": 2
}
